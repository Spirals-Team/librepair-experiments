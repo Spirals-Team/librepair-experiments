{
 "cells": [
  {
   "cell_type": "markdown",
   "metadata": {},
   "source": [
    "# Programmatic Access to Genome Nexus\n",
    "This notebook gives some examples in Python for programmatic access to http://genomenexus.org. You can run these examples after installing Jupyter. Easiest way for using Jupyter is installing the Python 3 version of anaconda: https://www.anaconda.com/download/. After having that you can install Jupyter with:\n",
    "```\n",
    "conda install jupyter\n",
    "```\n",
    "For these exampels we also require the Swagger API client reader [Bravado](https://github.com/Yelp/bravado). Unfortunately not yet available in anaconda, but you can get it through `pip`:\n",
    "```\n",
    "conda install pip\n",
    "pip install bravado\n",
    "```\n",
    "Let's try connecting to the Genome Nexus API now:"
   ]
  },
  {
   "cell_type": "code",
   "execution_count": 259,
   "metadata": {},
   "outputs": [
    {
     "name": "stdout",
     "output_type": "stream",
     "text": [
      "SwaggerClient(https://genomenexus-rc.herokuapp.com/)\n"
     ]
    }
   ],
   "source": [
    "from bravado.client import SwaggerClient\n",
    "client = SwaggerClient.from_url('https://genomenexus-rc.herokuapp.com/v2/api-docs')\n",
    "print(client)"
   ]
  },
  {
   "cell_type": "code",
   "execution_count": 35,
   "metadata": {},
   "outputs": [
    {
     "data": {
      "text/plain": [
       "['annotation-controller',\n",
       " 'ensembl-controller',\n",
       " 'info-controller',\n",
       " 'pdb-controller',\n",
       " 'pfam-controller']"
      ]
     },
     "execution_count": 35,
     "metadata": {},
     "output_type": "execute_result"
    }
   ],
   "source": [
    "dir(client)"
   ]
  },
  {
   "cell_type": "code",
   "execution_count": 36,
   "metadata": {
    "collapsed": true
   },
   "outputs": [],
   "source": [
    "for a in dir(client):\n",
    "    client.__setattr__(a[:-len('-controller')], client.__getattr__(a))"
   ]
  },
  {
   "cell_type": "code",
   "execution_count": 38,
   "metadata": {
    "collapsed": true
   },
   "outputs": [],
   "source": [
    "variant = client.annotation.fetchVariantAnnotationGET(variant='17:g.41242962_41242963insGA').result()"
   ]
  },
  {
   "cell_type": "code",
   "execution_count": 39,
   "metadata": {},
   "outputs": [
    {
     "data": {
      "text/plain": [
       "['allele_string',\n",
       " 'annotationJSON',\n",
       " 'assembly_name',\n",
       " 'end',\n",
       " 'id',\n",
       " 'most_severe_consequence',\n",
       " 'seq_region_name',\n",
       " 'start',\n",
       " 'strand',\n",
       " 'transcript_consequences',\n",
       " 'variant']"
      ]
     },
     "execution_count": 39,
     "metadata": {},
     "output_type": "execute_result"
    }
   ],
   "source": [
    "dir(variant)"
   ]
  },
  {
   "cell_type": "code",
   "execution_count": 43,
   "metadata": {
    "collapsed": true
   },
   "outputs": [],
   "source": [
    "tc1 = variant.transcript_consequences[0] "
   ]
  },
  {
   "cell_type": "code",
   "execution_count": 46,
   "metadata": {},
   "outputs": [
    {
     "data": {
      "text/plain": [
       "['amino_acids',\n",
       " 'canonical',\n",
       " 'codons',\n",
       " 'consequence_terms',\n",
       " 'gene_id',\n",
       " 'gene_symbol',\n",
       " 'hgnc_id',\n",
       " 'hgvsc',\n",
       " 'hgvsp',\n",
       " 'polyphen_prediction',\n",
       " 'polyphen_score',\n",
       " 'protein_end',\n",
       " 'protein_id',\n",
       " 'protein_start',\n",
       " 'refseq_transcript_ids',\n",
       " 'sift_prediction',\n",
       " 'sift_score',\n",
       " 'transcript_id',\n",
       " 'variant_allele']"
      ]
     },
     "execution_count": 46,
     "metadata": {},
     "output_type": "execute_result"
    }
   ],
   "source": [
    "dir(tc1)"
   ]
  },
  {
   "cell_type": "code",
   "execution_count": 45,
   "metadata": {},
   "outputs": [
    {
     "name": "stdout",
     "output_type": "stream",
     "text": [
      "TranscriptConsequence(amino_acids='Q/LX', canonical=None, codons='cag/cTCag', consequence_terms=['frameshift_variant', 'splice_region_variant'], gene_id='ENSG00000012048', gene_symbol='BRCA1', hgnc_id=1100, hgvsc='ENST00000309486.4:c.3294_3295dup', hgvsp='ENSP00000310938.4:p.Gln1099LeufsTer11', polyphen_prediction=None, polyphen_score=None, protein_end=1099, protein_id='ENSP00000310938', protein_start=1099, refseq_transcript_ids=['NM_007297.3'], sift_prediction=None, sift_score=None, transcript_id='ENST00000309486', variant_allele='GA')\n"
     ]
    }
   ],
   "source": [
    "print(tc1)"
   ]
  },
  {
   "cell_type": "markdown",
   "metadata": {},
   "source": [
    "## Connect with cBioPortal API\n",
    "[cBioPortal](http://www.cbioportal.org) also uses Swagger for their API. "
   ]
  },
  {
   "cell_type": "code",
   "execution_count": null,
   "metadata": {
    "collapsed": true
   },
   "outputs": [],
   "source": [
    "import seaborn as sns\n",
    "%matplotlib inline\n",
    "sns.set_style(\"white\")\n",
    "sns.set_context('talk')\n",
    "import matplotlib.pyplot as plt"
   ]
  },
  {
   "cell_type": "code",
   "execution_count": 53,
   "metadata": {},
   "outputs": [
    {
     "name": "stdout",
     "output_type": "stream",
     "text": [
      "SwaggerClient(http://www.cbioportal.org/api)\n"
     ]
    }
   ],
   "source": [
    "cbioportal = SwaggerClient.from_url('http://www.cbioportal.org/api/api-docs')\n",
    "print(cbioportal)"
   ]
  },
  {
   "cell_type": "code",
   "execution_count": 56,
   "metadata": {
    "collapsed": true
   },
   "outputs": [],
   "source": [
    "for a in dir(cbioportal):\n",
    "    cbioportal.__setattr__(a.replace(' ', '_').lower(), cbioportal.__getattr__(a))"
   ]
  },
  {
   "cell_type": "code",
   "execution_count": 57,
   "metadata": {},
   "outputs": [
    {
     "data": {
      "text/plain": [
       "['Cancer Types',\n",
       " 'Clinical Attributes',\n",
       " 'Clinical Data',\n",
       " 'Clinical Events',\n",
       " 'Copy Number Segments',\n",
       " 'Discrete Copy Number Alterations',\n",
       " 'Gene Panels',\n",
       " 'Genes',\n",
       " 'Molecular Data',\n",
       " 'Molecular Profiles',\n",
       " 'Mutations',\n",
       " 'Patients',\n",
       " 'Sample Lists',\n",
       " 'Samples',\n",
       " 'Studies']"
      ]
     },
     "execution_count": 57,
     "metadata": {},
     "output_type": "execute_result"
    }
   ],
   "source": [
    "dir(cbioportal)"
   ]
  },
  {
   "cell_type": "code",
   "execution_count": 156,
   "metadata": {
    "collapsed": true
   },
   "outputs": [],
   "source": [
    "muts = cbioportal.mutations.getMutationsInMolecularProfileBySampleListIdUsingGET(\n",
    "    molecularProfileId=\"msk_impact_2017_mutations\", # {study_id}_mutations gives default mutations profile for study \n",
    "    sampleListId=\"msk_impact_2017_all\", # {study_id}_all includes all samples\n",
    "    projection=\"DETAILED\" # include gene info\n",
    ").result()"
   ]
  },
  {
   "cell_type": "code",
   "execution_count": 79,
   "metadata": {
    "collapsed": true
   },
   "outputs": [],
   "source": [
    "import pandas as pd"
   ]
  },
  {
   "cell_type": "code",
   "execution_count": 169,
   "metadata": {
    "collapsed": true
   },
   "outputs": [],
   "source": [
    "mdf = pd.DataFrame([dict(m.__dict__['_Model__dict'], \n",
    "    **m.__dict__['_Model__dict']['gene'].__dict__['_Model__dict']) for m in muts])"
   ]
  },
  {
   "cell_type": "code",
   "execution_count": 170,
   "metadata": {},
   "outputs": [
    {
     "data": {
      "image/png": "[encoded data removed]",
      "text/plain": [
       "<matplotlib.figure.Figure at 0x1a39984c50>"
      ]
     },
     "metadata": {},
     "output_type": "display_data"
    }
   ],
   "source": [
    "mdf.groupby('uniqueSampleKey').studyId.count().plot(kind='hist', bins=400, xlim=(0,30))\n",
    "plt.xlabel('Number of mutations in sample')\n",
    "plt.ylabel('Number of samples')\n",
    "plt.title('Number of mutations across samples in MSK-IMPACT (2017)')\n",
    "sns.despine(trim=True)"
   ]
  },
  {
   "cell_type": "code",
   "execution_count": 171,
   "metadata": {},
   "outputs": [
    {
     "data": {
      "image/png": "[encoded data removed]",
      "text/plain": [
       "<matplotlib.figure.Figure at 0x1a26c23ac8>"
      ]
     },
     "metadata": {},
     "output_type": "display_data"
    }
   ],
   "source": [
    "mdf.variantType.astype(str).value_counts().plot(kind='bar')\n",
    "plt.title('Types of mutations in MSK-IMPACT (2017)')\n",
    "sns.despine(trim=False)"
   ]
  },
  {
   "cell_type": "markdown",
   "metadata": {},
   "source": [
    "## Annotate cBioPortal mutations with Genome Nexus\n",
    "For convenience sake we're using only SNVs here. Eventually there will be an endpoint to help convert pos, ref, alt to the hgvs notation."
   ]
  },
  {
   "cell_type": "code",
   "execution_count": 174,
   "metadata": {},
   "outputs": [
    {
     "data": {
      "text/plain": [
       "4    Gene(chromosome='9', cytoband='9q34.12', entre...\n",
       "5    Gene(chromosome='9', cytoband='9q34.12', entre...\n",
       "6    Gene(chromosome='9', cytoband='9q34.12', entre...\n",
       "7    Gene(chromosome='9', cytoband='9q34.12', entre...\n",
       "9    Gene(chromosome='9', cytoband='9q34.12', entre...\n",
       "Name: gene, dtype: object"
      ]
     },
     "execution_count": 174,
     "metadata": {},
     "output_type": "execute_result"
    }
   ],
   "source": [
    "snvs.gene.head()"
   ]
  },
  {
   "cell_type": "code",
   "execution_count": 216,
   "metadata": {
    "collapsed": true
   },
   "outputs": [],
   "source": [
    "snvs = mdf[(mdf.variantType == 'SNP') & (mdf.variantAllele != '-') &  (mdf.referenceAllele != '-')].copy()"
   ]
  },
  {
   "cell_type": "code",
   "execution_count": 217,
   "metadata": {
    "collapsed": true
   },
   "outputs": [],
   "source": [
    "# need query string like 9:g.22125503G>C\n",
    "snvs['hgvs_for_gn'] = snvs.chromosome.astype(str) + \":g.\" + snvs.startPosition.astype(str) + snvs.referenceAllele + '>' + snvs.variantAllele"
   ]
  },
  {
   "cell_type": "code",
   "execution_count": 218,
   "metadata": {
    "collapsed": true
   },
   "outputs": [],
   "source": [
    "assert(snvs['hgvs_for_gn'].isnull().sum() == 0)"
   ]
  },
  {
   "cell_type": "code",
   "execution_count": null,
   "metadata": {},
   "outputs": [],
   "source": [
    "import time\n",
    "\n",
    "qvariants = list(set(snvs.hgvs_for_gn))\n",
    "gn_results = []\n",
    "chunk_size = 500\n",
    "print(\"Querying {} variants\".format(len(qvariants)))\n",
    "for n, qvar in enumerate([qvariants[i:i + chunk_size] for i in range(0, len(qvariants), chunk_size)]):\n",
    "    try:\n",
    "        gn_results += client.annotation.fetchVariantAnnotationPOST(variants=qvar,fields=['hotspots']).result()\n",
    "        print(\"Querying [{}, {}]: Success\".format(n*chunk_size, min(len(qvariants), n*chunk_size+chunk_size)))\n",
    "    except Exception as e:\n",
    "        print(\"Querying [{}, {}]: Failed\".format(n*chunk_size, min(len(qvariants), n*chunk_size+chunk_size)))\n",
    "        pass\n",
    "    time.sleep(1) # add a delay, to not overload server"
   ]
  },
  {
   "cell_type": "code",
   "execution_count": 228,
   "metadata": {},
   "outputs": [],
   "source": [
    "gn_dict = {v.id:v for v in gn_results}"
   ]
  },
  {
   "cell_type": "code",
   "execution_count": 247,
   "metadata": {},
   "outputs": [],
   "source": [
    "def is_sift_high(variant):\n",
    "    return variant in gn_dict and \\\n",
    "        len(list(filter(lambda x: x.sift_prediction == 'deleterious', gn_dict[variant].transcript_consequences))) > 0\n",
    "    \n",
    "def is_polyphen_high(variant):\n",
    "    return variant in gn_dict and \\\n",
    "        len(list(filter(lambda x: x.polyphen_prediction == 'probably_damaging', gn_dict[variant].transcript_consequences))) > 0"
   ]
  },
  {
   "cell_type": "markdown",
   "metadata": {},
   "source": [
    "## Check overlap SIFT/PolyPhen-2"
   ]
  },
  {
   "cell_type": "code",
   "execution_count": 248,
   "metadata": {},
   "outputs": [],
   "source": [
    "snvs['is_sift_high'] = snvs.hgvs_for_gn.apply(is_sift_high)\n",
    "snvs['is_polyphen_high'] = snvs.hgvs_for_gn.apply(is_polyphen_high)"
   ]
  },
  {
   "cell_type": "code",
   "execution_count": 260,
   "metadata": {},
   "outputs": [
    {
     "data": {
      "text/plain": [
       "Text(0.5,1,'Variants as predicted to have a high impact in MSK-IMPACT (2017)')"
      ]
     },
     "execution_count": 260,
     "metadata": {},
     "output_type": "execute_result"
    },
    {
     "data": {
      "image/png": "[encoded data removed]",
      "text/plain": [
       "<matplotlib.figure.Figure at 0x1a492d7dd8>"
      ]
     },
     "metadata": {},
     "output_type": "display_data"
    }
   ],
   "source": [
    "from matplotlib_venn import venn2\n",
    "\n",
    "venn2(subsets=((snvs.is_sift_high & (~snvs.is_polyphen_high)).sum(),\n",
    "               (snvs.is_polyphen_high & (~snvs.is_sift_high)).sum(),\n",
    "               (snvs.is_polyphen_high & snvs.is_sift_high).sum()), set_labels=[\"SIFT\",\"PolyPhen-2\"])\n",
    "plt.title(\"Variants as predicted to have a high impact in MSK-IMPACT (2017)\")"
   ]
  }
 ],
 "metadata": {
  "kernelspec": {
   "display_name": "Python 3",
   "language": "python",
   "name": "python3"
  },
  "language_info": {
   "codemirror_mode": {
    "name": "ipython",
    "version": 3
   },
   "file_extension": ".py",
   "mimetype": "text/x-python",
   "name": "python",
   "nbconvert_exporter": "python",
   "pygments_lexer": "ipython3",
   "version": "3.6.3"
  }
 },
 "nbformat": 4,
 "nbformat_minor": 2
}
